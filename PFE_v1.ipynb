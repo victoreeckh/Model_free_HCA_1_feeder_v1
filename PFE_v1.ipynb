{
  "nbformat": 4,
  "nbformat_minor": 0,
  "metadata": {
    "colab": {
      "provenance": [],
      "authorship_tag": "ABX9TyNsD8pUe6x6OMsEc2wobroV",
      "include_colab_link": true
    },
    "kernelspec": {
      "name": "python3",
      "display_name": "Python 3"
    },
    "language_info": {
      "name": "python"
    }
  },
  "cells": [
    {
      "cell_type": "markdown",
      "metadata": {
        "id": "view-in-github",
        "colab_type": "text"
      },
      "source": [
        "<a href=\"https://colab.research.google.com/github/victoreeckh/Model_free_HCA_1_feeder_v1/blob/main/PFE_v1.ipynb\" target=\"_parent\"><img src=\"https://colab.research.google.com/assets/colab-badge.svg\" alt=\"Open In Colab\"/></a>"
      ]
    },
    {
      "cell_type": "markdown",
      "source": [
        "# Power Flow Engine model"
      ],
      "metadata": {
        "id": "DPM2TbS-gxVy"
      }
    },
    {
      "cell_type": "code",
      "execution_count": 1,
      "metadata": {
        "id": "OQzJVEhdgVDo"
      },
      "outputs": [],
      "source": [
        "import pandas as pd\n",
        "import numpy as np\n",
        "from pandas import DataFrame\n",
        "import matplotlib.pyplot as plt\n",
        "import time\n",
        "import os\n",
        "import json\n",
        "import math"
      ]
    },
    {
      "cell_type": "code",
      "source": [
        "!pip install dss_python\n",
        "!pip install dss"
      ],
      "metadata": {
        "id": "bDAQixU6gw9F"
      },
      "execution_count": null,
      "outputs": []
    },
    {
      "cell_type": "code",
      "source": [
        "import dss\n",
        "dss_via_python = dss.DSS\n",
        "print(dss_via_python) # check object type"
      ],
      "metadata": {
        "colab": {
          "base_uri": "https://localhost:8080/"
        },
        "id": "j6NMGO5CnEqM",
        "outputId": "f734456a-dd6f-4e59-8800-6eb91953b437"
      },
      "execution_count": 3,
      "outputs": [
        {
          "output_type": "stream",
          "name": "stdout",
          "text": [
            "<dss.IDSS.IDSS object at 0x7c20f6856700>\n"
          ]
        }
      ]
    },
    {
      "cell_type": "markdown",
      "source": [
        "### Data acquisition"
      ],
      "metadata": {
        "id": "pJkhGk00yhPX"
      }
    },
    {
      "cell_type": "code",
      "source": [
        "#import files from FNAData/Network\n",
        "from google.colab import files\n",
        "uploaded = files.upload()"
      ],
      "metadata": {
        "colab": {
          "base_uri": "https://localhost:8080/",
          "height": 179
        },
        "id": "-hNTd8tpx5yx",
        "outputId": "f501d922-abe3-4def-eb73-2b8ec7268a34"
      },
      "execution_count": 4,
      "outputs": [
        {
          "output_type": "display_data",
          "data": {
            "text/plain": [
              "<IPython.core.display.HTML object>"
            ],
            "text/html": [
              "\n",
              "     <input type=\"file\" id=\"files-6cfbef0e-4cc4-40dc-9ef8-0562f2d3bfac\" name=\"files[]\" multiple disabled\n",
              "        style=\"border:none\" />\n",
              "     <output id=\"result-6cfbef0e-4cc4-40dc-9ef8-0562f2d3bfac\">\n",
              "      Upload widget is only available when the cell has been executed in the\n",
              "      current browser session. Please rerun this cell to enable.\n",
              "      </output>\n",
              "      <script>// Copyright 2017 Google LLC\n",
              "//\n",
              "// Licensed under the Apache License, Version 2.0 (the \"License\");\n",
              "// you may not use this file except in compliance with the License.\n",
              "// You may obtain a copy of the License at\n",
              "//\n",
              "//      http://www.apache.org/licenses/LICENSE-2.0\n",
              "//\n",
              "// Unless required by applicable law or agreed to in writing, software\n",
              "// distributed under the License is distributed on an \"AS IS\" BASIS,\n",
              "// WITHOUT WARRANTIES OR CONDITIONS OF ANY KIND, either express or implied.\n",
              "// See the License for the specific language governing permissions and\n",
              "// limitations under the License.\n",
              "\n",
              "/**\n",
              " * @fileoverview Helpers for google.colab Python module.\n",
              " */\n",
              "(function(scope) {\n",
              "function span(text, styleAttributes = {}) {\n",
              "  const element = document.createElement('span');\n",
              "  element.textContent = text;\n",
              "  for (const key of Object.keys(styleAttributes)) {\n",
              "    element.style[key] = styleAttributes[key];\n",
              "  }\n",
              "  return element;\n",
              "}\n",
              "\n",
              "// Max number of bytes which will be uploaded at a time.\n",
              "const MAX_PAYLOAD_SIZE = 100 * 1024;\n",
              "\n",
              "function _uploadFiles(inputId, outputId) {\n",
              "  const steps = uploadFilesStep(inputId, outputId);\n",
              "  const outputElement = document.getElementById(outputId);\n",
              "  // Cache steps on the outputElement to make it available for the next call\n",
              "  // to uploadFilesContinue from Python.\n",
              "  outputElement.steps = steps;\n",
              "\n",
              "  return _uploadFilesContinue(outputId);\n",
              "}\n",
              "\n",
              "// This is roughly an async generator (not supported in the browser yet),\n",
              "// where there are multiple asynchronous steps and the Python side is going\n",
              "// to poll for completion of each step.\n",
              "// This uses a Promise to block the python side on completion of each step,\n",
              "// then passes the result of the previous step as the input to the next step.\n",
              "function _uploadFilesContinue(outputId) {\n",
              "  const outputElement = document.getElementById(outputId);\n",
              "  const steps = outputElement.steps;\n",
              "\n",
              "  const next = steps.next(outputElement.lastPromiseValue);\n",
              "  return Promise.resolve(next.value.promise).then((value) => {\n",
              "    // Cache the last promise value to make it available to the next\n",
              "    // step of the generator.\n",
              "    outputElement.lastPromiseValue = value;\n",
              "    return next.value.response;\n",
              "  });\n",
              "}\n",
              "\n",
              "/**\n",
              " * Generator function which is called between each async step of the upload\n",
              " * process.\n",
              " * @param {string} inputId Element ID of the input file picker element.\n",
              " * @param {string} outputId Element ID of the output display.\n",
              " * @return {!Iterable<!Object>} Iterable of next steps.\n",
              " */\n",
              "function* uploadFilesStep(inputId, outputId) {\n",
              "  const inputElement = document.getElementById(inputId);\n",
              "  inputElement.disabled = false;\n",
              "\n",
              "  const outputElement = document.getElementById(outputId);\n",
              "  outputElement.innerHTML = '';\n",
              "\n",
              "  const pickedPromise = new Promise((resolve) => {\n",
              "    inputElement.addEventListener('change', (e) => {\n",
              "      resolve(e.target.files);\n",
              "    });\n",
              "  });\n",
              "\n",
              "  const cancel = document.createElement('button');\n",
              "  inputElement.parentElement.appendChild(cancel);\n",
              "  cancel.textContent = 'Cancel upload';\n",
              "  const cancelPromise = new Promise((resolve) => {\n",
              "    cancel.onclick = () => {\n",
              "      resolve(null);\n",
              "    };\n",
              "  });\n",
              "\n",
              "  // Wait for the user to pick the files.\n",
              "  const files = yield {\n",
              "    promise: Promise.race([pickedPromise, cancelPromise]),\n",
              "    response: {\n",
              "      action: 'starting',\n",
              "    }\n",
              "  };\n",
              "\n",
              "  cancel.remove();\n",
              "\n",
              "  // Disable the input element since further picks are not allowed.\n",
              "  inputElement.disabled = true;\n",
              "\n",
              "  if (!files) {\n",
              "    return {\n",
              "      response: {\n",
              "        action: 'complete',\n",
              "      }\n",
              "    };\n",
              "  }\n",
              "\n",
              "  for (const file of files) {\n",
              "    const li = document.createElement('li');\n",
              "    li.append(span(file.name, {fontWeight: 'bold'}));\n",
              "    li.append(span(\n",
              "        `(${file.type || 'n/a'}) - ${file.size} bytes, ` +\n",
              "        `last modified: ${\n",
              "            file.lastModifiedDate ? file.lastModifiedDate.toLocaleDateString() :\n",
              "                                    'n/a'} - `));\n",
              "    const percent = span('0% done');\n",
              "    li.appendChild(percent);\n",
              "\n",
              "    outputElement.appendChild(li);\n",
              "\n",
              "    const fileDataPromise = new Promise((resolve) => {\n",
              "      const reader = new FileReader();\n",
              "      reader.onload = (e) => {\n",
              "        resolve(e.target.result);\n",
              "      };\n",
              "      reader.readAsArrayBuffer(file);\n",
              "    });\n",
              "    // Wait for the data to be ready.\n",
              "    let fileData = yield {\n",
              "      promise: fileDataPromise,\n",
              "      response: {\n",
              "        action: 'continue',\n",
              "      }\n",
              "    };\n",
              "\n",
              "    // Use a chunked sending to avoid message size limits. See b/62115660.\n",
              "    let position = 0;\n",
              "    do {\n",
              "      const length = Math.min(fileData.byteLength - position, MAX_PAYLOAD_SIZE);\n",
              "      const chunk = new Uint8Array(fileData, position, length);\n",
              "      position += length;\n",
              "\n",
              "      const base64 = btoa(String.fromCharCode.apply(null, chunk));\n",
              "      yield {\n",
              "        response: {\n",
              "          action: 'append',\n",
              "          file: file.name,\n",
              "          data: base64,\n",
              "        },\n",
              "      };\n",
              "\n",
              "      let percentDone = fileData.byteLength === 0 ?\n",
              "          100 :\n",
              "          Math.round((position / fileData.byteLength) * 100);\n",
              "      percent.textContent = `${percentDone}% done`;\n",
              "\n",
              "    } while (position < fileData.byteLength);\n",
              "  }\n",
              "\n",
              "  // All done.\n",
              "  yield {\n",
              "    response: {\n",
              "      action: 'complete',\n",
              "    }\n",
              "  };\n",
              "}\n",
              "\n",
              "scope.google = scope.google || {};\n",
              "scope.google.colab = scope.google.colab || {};\n",
              "scope.google.colab._files = {\n",
              "  _uploadFiles,\n",
              "  _uploadFilesContinue,\n",
              "};\n",
              "})(self);\n",
              "</script> "
            ]
          },
          "metadata": {}
        },
        {
          "output_type": "stream",
          "name": "stdout",
          "text": [
            "Saving 65019_74478_Mod_branches.json to 65019_74478_Mod_branches.json\n",
            "Saving 65019_74478_Mod_buses.json to 65019_74478_Mod_buses.json\n",
            "Saving 65019_74478_mod_configuration.json to 65019_74478_mod_configuration.json\n",
            "Saving 65019_74478_Mod_devices.json to 65019_74478_Mod_devices.json\n"
          ]
        }
      ]
    },
    {
      "cell_type": "code",
      "source": [
        "#import files from FNAData/ScenariosRobustSolution\n",
        "from google.colab import files\n",
        "uploaded = files.upload()"
      ],
      "metadata": {
        "id": "2XAP_iF9yZW4"
      },
      "execution_count": null,
      "outputs": []
    },
    {
      "cell_type": "code",
      "source": [
        "with open('/content/65019_74478_Mod_branches.json', 'r') as file:\n",
        "    branches = json.load(file)\n",
        "with open('/content/65019_74478_Mod_buses.json', 'r') as file:\n",
        "    buses = json.load(file)\n",
        "with open('/content/65019_74478_Mod_devices.json', 'r') as file:\n",
        "    devices = json.load(file)\n",
        "    LVcustomers = devices['LVcustomers']\n",
        "    solarGens = devices['solarGens']\n",
        "with open('/content/65019_74478_mod_configuration.json', 'r') as file:\n",
        "    configuration = json.load(file)\n",
        "print(branches)\n",
        "print(buses)\n",
        "print(devices)\n",
        "print(configuration)"
      ],
      "metadata": {
        "colab": {
          "base_uri": "https://localhost:8080/"
        },
        "id": "l3mQvOTvzhC2",
        "outputId": "ca62b04c-3a1d-437f-eaaa-99158eb78b75"
      },
      "execution_count": 6,
      "outputs": [
        {
          "output_type": "stream",
          "name": "stdout",
          "text": [
            "[{'branchId': 0, 'cableLength': 17.0, 'cableType': 'BT - RV 0,6/1 KV 3(1*150 KAL) + 1*95 KAL', 'downBusId': 1, 'type': 'Cable', 'upBusId': 0}, {'branchId': 1, 'cableLength': 23.0, 'cableType': 'BT - RV 0,6/1 KV 3(1*150 KAL) + 1*95 KAL', 'downBusId': 2, 'type': 'Cable', 'upBusId': 1}, {'branchId': 2, 'cableLength': 5.0, 'cableType': 'BT - RV 0,6/1 KV 4*95 KAL', 'downBusId': 3, 'type': 'Cable', 'upBusId': 2}, {'branchId': 3, 'cableLength': 10, 'cableType': 'BT - RV 0,6/1 KV 4*95 KAL', 'downBusId': 4, 'type': 'Cable', 'upBusId': 3}, {'branchId': 4, 'cableLength': 1.0, 'cableType': 'BT - RV 0,6/1 KV 3(1*150 KAL) + 1*95 KAL', 'downBusId': 5, 'type': 'Cable', 'upBusId': 2}, {'branchId': 5, 'cableLength': 25.0, 'cableType': 'BT - RZ 0,6/1 KV 3*150 AL/95 ALM', 'downBusId': 6, 'type': 'Cable', 'upBusId': 5}, {'branchId': 6, 'cableLength': 20.0, 'cableType': 'BT - RZ 0,6/1 KV 3*150 AL/95 ALM', 'downBusId': 7, 'type': 'Cable', 'upBusId': 6}, {'branchId': 7, 'cableLength': 2.0, 'cableType': 'BT - RZ 0,6/1 KV 3*95 AL/54,6 ALM', 'downBusId': 8, 'type': 'Cable', 'upBusId': 7}, {'branchId': 8, 'cableLength': 12.0, 'cableType': 'BT - RZ 0,6/1 KV 3*95 AL/54,6 ALM', 'downBusId': 9, 'type': 'Cable', 'upBusId': 8}, {'branchId': 9, 'cableLength': 10, 'cableType': 'aansluitkabel', 'downBusId': 10, 'type': 'Cable', 'upBusId': 9}, {'branchId': 10, 'cableLength': 4.34, 'cableType': 'BT - MANGUERA', 'downBusId': 11, 'type': 'Cable', 'upBusId': 9}, {'branchId': 11, 'cableLength': 4.16, 'cableType': 'BT - MANGUERA', 'downBusId': 12, 'type': 'Cable', 'upBusId': 9}, {'branchId': 12, 'cableLength': 10, 'cableType': 'aansluitkabel', 'downBusId': 13, 'type': 'Cable', 'upBusId': 12}, {'branchId': 13, 'cableLength': 19.0, 'cableType': 'BT - RZ 0,6/1 KV 3*95 AL/54,6 ALM', 'downBusId': 14, 'type': 'Cable', 'upBusId': 9}, {'branchId': 14, 'cableLength': 1.52, 'cableType': 'BT - RZ 0,6/1 KV 3*50 AL/54,6 ALM', 'downBusId': 15, 'type': 'Cable', 'upBusId': 14}, {'branchId': 15, 'cableLength': 10, 'cableType': 'aansluitkabel', 'downBusId': 16, 'type': 'Cable', 'upBusId': 15}, {'branchId': 16, 'cableLength': 21.43, 'cableType': 'BT - RZ 0,6/1 KV 3*50 AL/54,6 ALM', 'downBusId': 17, 'type': 'Cable', 'upBusId': 15}, {'branchId': 17, 'cableLength': 10, 'cableType': 'aansluitkabel', 'downBusId': 18, 'type': 'Cable', 'upBusId': 17}, {'branchId': 18, 'cableLength': 17.0, 'cableType': 'BT - RZ 0,6/1 KV 3*50 AL/54,6 ALM', 'downBusId': 19, 'type': 'Cable', 'upBusId': 17}, {'branchId': 19, 'cableLength': 10, 'cableType': 'aansluitkabel', 'downBusId': 20, 'type': 'Cable', 'upBusId': 19}, {'branchId': 20, 'cableLength': 18.0, 'cableType': 'BT - RZ 0,6/1 KV 4*16 AL', 'downBusId': 21, 'type': 'Cable', 'upBusId': 19}, {'branchId': 21, 'cableLength': 10, 'cableType': 'aansluitkabel', 'downBusId': 22, 'type': 'Cable', 'upBusId': 21}, {'branchId': 22, 'cableLength': 2.0, 'cableType': 'BT - MANGUERA', 'downBusId': 23, 'type': 'Cable', 'upBusId': 21}, {'branchId': 23, 'cableLength': 10, 'cableType': 'aansluitkabel', 'downBusId': 24, 'type': 'Cable', 'upBusId': 23}, {'branchId': 24, 'cableLength': 2.0, 'cableType': 'BT - MANGUERA', 'downBusId': 25, 'type': 'Cable', 'upBusId': 21}, {'branchId': 25, 'cableLength': 3.26, 'cableType': 'BT - MANGUERA', 'downBusId': 26, 'type': 'Cable', 'upBusId': 17}, {'branchId': 26, 'cableLength': 7.61, 'cableType': 'BT - MANGUERA', 'downBusId': 27, 'type': 'Cable', 'upBusId': 17}, {'branchId': 27, 'cableLength': 3.26, 'cableType': 'BT - MANGUERA', 'downBusId': 28, 'type': 'Cable', 'upBusId': 17}, {'branchId': 28, 'cableLength': 9.0, 'cableType': 'BT - RZ 0,6/1 KV 3*95 AL/54,6 ALM', 'downBusId': 29, 'type': 'Cable', 'upBusId': 14}, {'branchId': 29, 'cableLength': 10, 'cableType': 'aansluitkabel', 'downBusId': 30, 'type': 'Cable', 'upBusId': 29}, {'branchId': 30, 'cableLength': 2.0, 'cableType': 'BT - RZ 0,6/1 KV 3*95 AL/54,6 ALM', 'downBusId': 31, 'type': 'Cable', 'upBusId': 29}, {'branchId': 31, 'cableLength': 16.0, 'cableType': 'BT - RZ 0,6/1 KV 4*16 AL', 'downBusId': 32, 'type': 'Cable', 'upBusId': 31}, {'branchId': 32, 'cableLength': 10, 'cableType': 'aansluitkabel', 'downBusId': 33, 'type': 'Cable', 'upBusId': 32}, {'branchId': 33, 'cableLength': 2.0, 'cableType': 'BT - MANGUERA', 'downBusId': 34, 'type': 'Cable', 'upBusId': 32}, {'branchId': 34, 'cableLength': 2.0, 'cableType': 'BT - MANGUERA', 'downBusId': 35, 'type': 'Cable', 'upBusId': 32}, {'branchId': 35, 'cableLength': 48.0, 'cableType': 'BT - RZ 0,6/1 KV 3*95 AL/54,6 ALM', 'downBusId': 36, 'type': 'Cable', 'upBusId': 31}, {'branchId': 36, 'cableLength': 10, 'cableType': 'aansluitkabel', 'downBusId': 37, 'type': 'Cable', 'upBusId': 36}, {'branchId': 37, 'cableLength': 7.0, 'cableType': 'BT - RZ 0,6/1 KV 2*16 AL', 'downBusId': 38, 'type': 'Cable', 'upBusId': 36}, {'branchId': 38, 'cableLength': 10, 'cableType': 'aansluitkabel', 'downBusId': 39, 'type': 'Cable', 'upBusId': 38}, {'branchId': 39, 'cableLength': 25.0, 'cableType': 'BT - RZ 0,6/1 KV 3*95 AL/54,6 ALM', 'downBusId': 40, 'type': 'Cable', 'upBusId': 36}, {'branchId': 40, 'cableLength': 16.0, 'cableType': 'BT - RZ 0,6/1 KV 3*95 AL/54,6 ALM', 'downBusId': 41, 'type': 'Cable', 'upBusId': 40}, {'branchId': 41, 'cableLength': 10, 'cableType': 'aansluitkabel', 'downBusId': 42, 'type': 'Cable', 'upBusId': 41}, {'branchId': 42, 'cableLength': 34.0, 'cableType': 'BT - RZ 0,6/1 KV 4*16 AL', 'downBusId': 43, 'type': 'Cable', 'upBusId': 36}, {'branchId': 43, 'cableLength': 10, 'cableType': 'aansluitkabel', 'downBusId': 44, 'type': 'Cable', 'upBusId': 43}, {'branchId': 44, 'cableLength': 9.0, 'cableType': 'BT - RZ 0,6/1 KV 4*16 AL', 'downBusId': 45, 'type': 'Cable', 'upBusId': 43}, {'branchId': 45, 'cableLength': 6.02, 'cableType': 'BT - RZ 0,6/1 KV 4*16 AL', 'downBusId': 46, 'type': 'Cable', 'upBusId': 45}, {'branchId': 46, 'cableLength': 10, 'cableType': 'aansluitkabel', 'downBusId': 47, 'type': 'Cable', 'upBusId': 46}, {'branchId': 47, 'cableLength': 2.11, 'cableType': 'BT - RZ 0,6/1 KV 4*16 AL', 'downBusId': 48, 'type': 'Cable', 'upBusId': 46}, {'branchId': 48, 'cableLength': 10, 'cableType': 'aansluitkabel', 'downBusId': 49, 'type': 'Cable', 'upBusId': 48}, {'branchId': 49, 'cableLength': 8.0, 'cableType': 'BT - RZ 0,6/1 KV 2*16 AL', 'downBusId': 50, 'type': 'Cable', 'upBusId': 48}, {'branchId': 50, 'cableLength': 10, 'cableType': 'aansluitkabel', 'downBusId': 51, 'type': 'Cable', 'upBusId': 50}, {'branchId': 51, 'cableLength': 2.0, 'cableType': 'BT - RZ 0,6/1 KV 3*95 AL/54,6 ALM', 'downBusId': 52, 'type': 'Cable', 'upBusId': 7}, {'branchId': 52, 'cableLength': 22.0, 'cableType': 'BT - RZ 0,6/1 KV 3*50 AL/54,6 ALM', 'downBusId': 53, 'type': 'Cable', 'upBusId': 7}, {'branchId': 53, 'cableLength': 2.0, 'cableType': 'BT - RZ 0,6/1 KV 4*16 AL', 'downBusId': 54, 'type': 'Cable', 'upBusId': 53}, {'branchId': 54, 'cableLength': 10, 'cableType': 'aansluitkabel', 'downBusId': 55, 'type': 'Cable', 'upBusId': 54}, {'branchId': 55, 'cableLength': 1.0, 'cableType': 'BT - MANGUERA', 'downBusId': 56, 'type': 'Cable', 'upBusId': 54}, {'branchId': 56, 'cableLength': 8.0, 'cableType': 'BT - MANGUERA', 'downBusId': 57, 'type': 'Cable', 'upBusId': 54}, {'branchId': 57, 'cableLength': 10, 'cableType': 'aansluitkabel', 'downBusId': 58, 'type': 'Cable', 'upBusId': 57}, {'branchId': 58, 'cableLength': 57.06, 'cableType': 'BT - RZ 0,6/1 KV 3*50 AL/54,6 ALM', 'downBusId': 59, 'type': 'Cable', 'upBusId': 53}, {'branchId': 59, 'cableLength': 8.0, 'cableType': 'BT - RZ 0,6/1 KV 2*16 AL', 'downBusId': 60, 'type': 'Cable', 'upBusId': 59}, {'branchId': 60, 'cableLength': 10, 'cableType': 'aansluitkabel', 'downBusId': 61, 'type': 'Cable', 'upBusId': 60}, {'branchId': 61, 'cableLength': 1.0, 'cableType': 'BT - RV 0,6/1 KV 4*95 KAL', 'downBusId': 62, 'type': 'Cable', 'upBusId': 1}, {'branchId': 62, 'cableLength': 20, 'cableType': 'BT - RV 0,6/1 KV 4*95 KAL', 'downBusId': 63, 'type': 'Cable', 'upBusId': 62}, {'branchId': 64, 'cableLength': 15, 'cableType': 'BT - RV 0,6/1 KV 4*95 KAL', 'downBusId': 64, 'type': 'Cable', 'upBusId': 4}, {'branchId': 65, 'cableLength': 20, 'cableType': 'BT - RV 0,6/1 KV 4*95 KAL', 'downBusId': 65, 'type': 'Cable', 'upBusId': 64}, {'branchId': 66, 'cableLength': 20, 'cableType': 'BT - RV 0,6/1 KV 4*95 KAL', 'downBusId': 66, 'type': 'Cable', 'upBusId': 65}, {'branchId': 67, 'cableLength': 20, 'cableType': 'BT - RV 0,6/1 KV 4*95 KAL', 'downBusId': 67, 'type': 'Cable', 'upBusId': 66}, {'branchId': 68, 'cableLength': 20, 'cableType': 'BT - RV 0,6/1 KV 4*95 KAL', 'downBusId': 68, 'type': 'Cable', 'upBusId': 63}, {'branchId': 69, 'cableLength': 25, 'cableType': 'BT - RV 0,6/1 KV 4*95 KAL', 'downBusId': 69, 'type': 'Cable', 'upBusId': 68}, {'branchId': 70, 'cableLength': 18, 'cableType': 'BT - RV 0,6/1 KV 4*95 KAL', 'downBusId': 70, 'type': 'Cable', 'upBusId': 69}, {'branchId': 71, 'cableLength': 22, 'cableType': 'BT - RV 0,6/1 KV 4*95 KAL', 'downBusId': 71, 'type': 'Cable', 'upBusId': 70}, {'branchId': 72, 'cableLength': 30, 'cableType': 'BT - RV 0,6/1 KV 4*95 KAL', 'downBusId': 72, 'type': 'Cable', 'upBusId': 66}, {'branchId': 73, 'cableLength': 15, 'cableType': 'BT - RV 0,6/1 KV 4*95 KAL', 'downBusId': 73, 'type': 'Cable', 'upBusId': 72}, {'branchId': 74, 'cableLength': 10, 'cableType': 'BT - RV 0,6/1 KV 4*95 KAL', 'downBusId': 74, 'type': 'Cable', 'upBusId': 73}, {'branchId': 75, 'cableLength': 20, 'cableType': 'BT - RV 0,6/1 KV 4*95 KAL', 'downBusId': 75, 'type': 'Cable', 'upBusId': 74}]\n",
            "[{'busId': 0, 'slackBus': True}, {'busId': 1, 'lowerVoltageLimit': 0.9, 'slackBus': False, 'upperVoltageLimit': 1.1}, {'busId': 2, 'lowerVoltageLimit': 0.9, 'slackBus': False, 'upperVoltageLimit': 1.1}, {'busId': 3, 'lowerVoltageLimit': 0.9, 'slackBus': False, 'upperVoltageLimit': 1.1}, {'busId': 4, 'lowerVoltageLimit': 0.9, 'slackBus': False, 'upperVoltageLimit': 1.1}, {'busId': 5, 'lowerVoltageLimit': 0.9, 'slackBus': False, 'upperVoltageLimit': 1.1}, {'busId': 6, 'lowerVoltageLimit': 0.9, 'slackBus': False, 'upperVoltageLimit': 1.1}, {'busId': 7, 'lowerVoltageLimit': 0.9, 'slackBus': False, 'upperVoltageLimit': 1.1}, {'busId': 8, 'lowerVoltageLimit': 0.9, 'slackBus': False, 'upperVoltageLimit': 1.1}, {'busId': 9, 'lowerVoltageLimit': 0.9, 'slackBus': False, 'upperVoltageLimit': 1.1}, {'busId': 10, 'lowerVoltageLimit': 0.9, 'slackBus': False, 'upperVoltageLimit': 1.1}, {'busId': 11, 'lowerVoltageLimit': 0.9, 'slackBus': False, 'upperVoltageLimit': 1.1}, {'busId': 12, 'lowerVoltageLimit': 0.9, 'slackBus': False, 'upperVoltageLimit': 1.1}, {'busId': 13, 'lowerVoltageLimit': 0.9, 'slackBus': False, 'upperVoltageLimit': 1.1}, {'busId': 14, 'lowerVoltageLimit': 0.9, 'slackBus': False, 'upperVoltageLimit': 1.1}, {'busId': 15, 'lowerVoltageLimit': 0.9, 'slackBus': False, 'upperVoltageLimit': 1.1}, {'busId': 16, 'lowerVoltageLimit': 0.9, 'slackBus': False, 'upperVoltageLimit': 1.1}, {'busId': 17, 'lowerVoltageLimit': 0.9, 'slackBus': False, 'upperVoltageLimit': 1.1}, {'busId': 18, 'lowerVoltageLimit': 0.9, 'slackBus': False, 'upperVoltageLimit': 1.1}, {'busId': 19, 'lowerVoltageLimit': 0.9, 'slackBus': False, 'upperVoltageLimit': 1.1}, {'busId': 20, 'lowerVoltageLimit': 0.9, 'slackBus': False, 'upperVoltageLimit': 1.1}, {'busId': 21, 'lowerVoltageLimit': 0.9, 'slackBus': False, 'upperVoltageLimit': 1.1}, {'busId': 22, 'lowerVoltageLimit': 0.9, 'slackBus': False, 'upperVoltageLimit': 1.1}, {'busId': 23, 'lowerVoltageLimit': 0.9, 'slackBus': False, 'upperVoltageLimit': 1.1}, {'busId': 24, 'lowerVoltageLimit': 0.9, 'slackBus': False, 'upperVoltageLimit': 1.1}, {'busId': 25, 'lowerVoltageLimit': 0.9, 'slackBus': False, 'upperVoltageLimit': 1.1}, {'busId': 26, 'lowerVoltageLimit': 0.9, 'slackBus': False, 'upperVoltageLimit': 1.1}, {'busId': 27, 'lowerVoltageLimit': 0.9, 'slackBus': False, 'upperVoltageLimit': 1.1}, {'busId': 28, 'lowerVoltageLimit': 0.9, 'slackBus': False, 'upperVoltageLimit': 1.1}, {'busId': 29, 'lowerVoltageLimit': 0.9, 'slackBus': False, 'upperVoltageLimit': 1.1}, {'busId': 30, 'lowerVoltageLimit': 0.9, 'slackBus': False, 'upperVoltageLimit': 1.1}, {'busId': 31, 'lowerVoltageLimit': 0.9, 'slackBus': False, 'upperVoltageLimit': 1.1}, {'busId': 32, 'lowerVoltageLimit': 0.9, 'slackBus': False, 'upperVoltageLimit': 1.1}, {'busId': 33, 'lowerVoltageLimit': 0.9, 'slackBus': False, 'upperVoltageLimit': 1.1}, {'busId': 34, 'lowerVoltageLimit': 0.9, 'slackBus': False, 'upperVoltageLimit': 1.1}, {'busId': 35, 'lowerVoltageLimit': 0.9, 'slackBus': False, 'upperVoltageLimit': 1.1}, {'busId': 36, 'lowerVoltageLimit': 0.9, 'slackBus': False, 'upperVoltageLimit': 1.1}, {'busId': 37, 'lowerVoltageLimit': 0.9, 'slackBus': False, 'upperVoltageLimit': 1.1}, {'busId': 38, 'lowerVoltageLimit': 0.9, 'slackBus': False, 'upperVoltageLimit': 1.1}, {'busId': 39, 'lowerVoltageLimit': 0.9, 'slackBus': False, 'upperVoltageLimit': 1.1}, {'busId': 40, 'lowerVoltageLimit': 0.9, 'slackBus': False, 'upperVoltageLimit': 1.1}, {'busId': 41, 'lowerVoltageLimit': 0.9, 'slackBus': False, 'upperVoltageLimit': 1.1}, {'busId': 42, 'lowerVoltageLimit': 0.9, 'slackBus': False, 'upperVoltageLimit': 1.1}, {'busId': 43, 'lowerVoltageLimit': 0.9, 'slackBus': False, 'upperVoltageLimit': 1.1}, {'busId': 44, 'lowerVoltageLimit': 0.9, 'slackBus': False, 'upperVoltageLimit': 1.1}, {'busId': 45, 'lowerVoltageLimit': 0.9, 'slackBus': False, 'upperVoltageLimit': 1.1}, {'busId': 46, 'lowerVoltageLimit': 0.9, 'slackBus': False, 'upperVoltageLimit': 1.1}, {'busId': 47, 'lowerVoltageLimit': 0.9, 'slackBus': False, 'upperVoltageLimit': 1.1}, {'busId': 48, 'lowerVoltageLimit': 0.9, 'slackBus': False, 'upperVoltageLimit': 1.1}, {'busId': 49, 'lowerVoltageLimit': 0.9, 'slackBus': False, 'upperVoltageLimit': 1.1}, {'busId': 50, 'lowerVoltageLimit': 0.9, 'slackBus': False, 'upperVoltageLimit': 1.1}, {'busId': 51, 'lowerVoltageLimit': 0.9, 'slackBus': False, 'upperVoltageLimit': 1.1}, {'busId': 52, 'lowerVoltageLimit': 0.9, 'slackBus': False, 'upperVoltageLimit': 1.1}, {'busId': 53, 'lowerVoltageLimit': 0.9, 'slackBus': False, 'upperVoltageLimit': 1.1}, {'busId': 54, 'lowerVoltageLimit': 0.9, 'slackBus': False, 'upperVoltageLimit': 1.1}, {'busId': 55, 'lowerVoltageLimit': 0.9, 'slackBus': False, 'upperVoltageLimit': 1.1}, {'busId': 56, 'lowerVoltageLimit': 0.9, 'slackBus': False, 'upperVoltageLimit': 1.1}, {'busId': 57, 'lowerVoltageLimit': 0.9, 'slackBus': False, 'upperVoltageLimit': 1.1}, {'busId': 58, 'lowerVoltageLimit': 0.9, 'slackBus': False, 'upperVoltageLimit': 1.1}, {'busId': 59, 'lowerVoltageLimit': 0.9, 'slackBus': False, 'upperVoltageLimit': 1.1}, {'busId': 60, 'lowerVoltageLimit': 0.9, 'slackBus': False, 'upperVoltageLimit': 1.1}, {'busId': 61, 'lowerVoltageLimit': 0.9, 'slackBus': False, 'upperVoltageLimit': 1.1}, {'busId': 62, 'lowerVoltageLimit': 0.9, 'slackBus': False, 'upperVoltageLimit': 1.1}, {'busId': 63, 'lowerVoltageLimit': 0.9, 'slackBus': False, 'upperVoltageLimit': 1.1}, {'busId': 64, 'lowerVoltageLimit': 0.9, 'slackBus': False, 'upperVoltageLimit': 1.1}, {'busId': 65, 'lowerVoltageLimit': 0.9, 'slackBus': False, 'upperVoltageLimit': 1.1}, {'busId': 66, 'lowerVoltageLimit': 0.9, 'slackBus': False, 'upperVoltageLimit': 1.1}, {'busId': 67, 'lowerVoltageLimit': 0.9, 'slackBus': False, 'upperVoltageLimit': 1.1}, {'busId': 68, 'lowerVoltageLimit': 0.9, 'slackBus': False, 'upperVoltageLimit': 1.1}, {'busId': 69, 'lowerVoltageLimit': 0.9, 'slackBus': False, 'upperVoltageLimit': 1.1}, {'busId': 70, 'lowerVoltageLimit': 0.9, 'slackBus': False, 'upperVoltageLimit': 1.1}, {'busId': 71, 'lowerVoltageLimit': 0.9, 'slackBus': False, 'upperVoltageLimit': 1.1}, {'busId': 72, 'lowerVoltageLimit': 0.9, 'slackBus': False, 'upperVoltageLimit': 1.1}, {'busId': 73, 'lowerVoltageLimit': 0.9, 'slackBus': False, 'upperVoltageLimit': 1.1}, {'busId': 74, 'lowerVoltageLimit': 0.9, 'slackBus': False, 'upperVoltageLimit': 1.1}, {'busId': 75, 'lowerVoltageLimit': 0.9, 'slackBus': False, 'upperVoltageLimit': 1.1}]\n",
            "{'LVcustomers': [{'busId': 4, 'coded_ean': 'SAG0125358136', 'connectionCapacity': 4.4, 'deviceId': 0, 'exclusiveNight': False, 'phases': [1], 'yearlyNetConsumption': 1758.2884745667484, 'yearlyNetReactiveConsumption': 135.5664491815532}, {'busId': 4, 'coded_ean': 'SAG0125358140', 'connectionCapacity': 4.4, 'deviceId': 1, 'exclusiveNight': False, 'phases': [2], 'yearlyNetConsumption': 1591.190320411393, 'yearlyNetReactiveConsumption': 185.46364992952962}, {'busId': 4, 'coded_ean': 'SAG0125358411', 'connectionCapacity': 3.45, 'deviceId': 2, 'exclusiveNight': False, 'phases': [2], 'yearlyNetConsumption': 1709.4238172454288, 'yearlyNetReactiveConsumption': 130.3280437838632}, {'busId': 65, 'coded_ean': 'SAG0125358412', 'connectionCapacity': 4.4, 'deviceId': 3, 'exclusiveNight': False, 'phases': [2], 'yearlyNetConsumption': 1455.4652614416668, 'yearlyNetReactiveConsumption': 161.67325815410948}, {'busId': 65, 'coded_ean': 'SAG0125358413', 'connectionCapacity': 3.45, 'deviceId': 4, 'exclusiveNight': False, 'phases': [2], 'yearlyNetConsumption': 1334.4588420989717, 'yearlyNetReactiveConsumption': 137.3926039477747}, {'busId': 65, 'coded_ean': 'SAG0125358414', 'connectionCapacity': 4.4, 'deviceId': 5, 'exclusiveNight': False, 'phases': [3], 'yearlyNetConsumption': 1093.6760781329428, 'yearlyNetReactiveConsumption': 160.81667162698432}, {'busId': 64, 'coded_ean': 'SAG0125358415', 'connectionCapacity': 4.4, 'deviceId': 6, 'exclusiveNight': False, 'phases': [2], 'yearlyNetConsumption': 1791.7549702407632, 'yearlyNetReactiveConsumption': 164.10355277568112}, {'busId': 64, 'coded_ean': 'SAG0125358416', 'connectionCapacity': 4.4, 'deviceId': 7, 'exclusiveNight': False, 'phases': [2], 'yearlyNetConsumption': 1126.4232769097514, 'yearlyNetReactiveConsumption': 202.91394435446335}, {'busId': 64, 'coded_ean': 'SAG0125358417', 'connectionCapacity': 4.4, 'deviceId': 8, 'exclusiveNight': False, 'phases': [1], 'yearlyNetConsumption': 1683.3626462003374, 'yearlyNetReactiveConsumption': 129.0669989356511}, {'busId': 65, 'coded_ean': 'SAG0125358418', 'connectionCapacity': 4.4, 'deviceId': 9, 'exclusiveNight': False, 'phases': [3], 'yearlyNetConsumption': 1356.3994690481986, 'yearlyNetReactiveConsumption': 129.33054718629464}, {'busId': 66, 'coded_ean': 'SAG0125358420', 'connectionCapacity': 4.4, 'deviceId': 10, 'exclusiveNight': False, 'phases': [1], 'yearlyNetConsumption': 1362.106191140647, 'yearlyNetReactiveConsumption': 107.6650593319545}, {'busId': 66, 'coded_ean': 'ZIV0036295891', 'connectionCapacity': 9.9, 'deviceId': 11, 'exclusiveNight': False, 'phases': [1, 2, 3], 'yearlyNetConsumption': 5423.122495905991, 'yearlyNetReactiveConsumption': 385.91220939259654}, {'busId': 10, 'coded_ean': 'ZIV0034810598', 'connectionCapacity': 4.6, 'deviceId': 12, 'exclusiveNight': False, 'phases': [1], 'yearlyNetConsumption': 1801.4597499339638, 'yearlyNetReactiveConsumption': 135.57845304920605}, {'busId': 13, 'coded_ean': 'ZIV0034810605', 'connectionCapacity': 5.75, 'deviceId': 13, 'exclusiveNight': False, 'phases': [2], 'yearlyNetConsumption': 1297.4551779590115, 'yearlyNetReactiveConsumption': 125.06604711757063}, {'busId': 16, 'coded_ean': 'ZIV0034810343', 'connectionCapacity': 1.5, 'deviceId': 14, 'exclusiveNight': False, 'phases': [2], 'yearlyNetConsumption': 1294.4879557784343, 'yearlyNetReactiveConsumption': 141.85992928073304}, {'busId': 18, 'coded_ean': 'ZIV0034810600', 'connectionCapacity': 4.4, 'deviceId': 15, 'exclusiveNight': False, 'phases': [2], 'yearlyNetConsumption': 1495.3867156063004, 'yearlyNetReactiveConsumption': 135.0701562074455}, {'busId': 18, 'coded_ean': 'ZIV0046917124', 'connectionCapacity': 8.05, 'deviceId': 16, 'exclusiveNight': False, 'phases': [1], 'yearlyNetConsumption': 1838.9427476715116, 'yearlyNetReactiveConsumption': 149.32524820962206}, {'busId': 20, 'coded_ean': 'ZIV0036288259', 'connectionCapacity': 3.3, 'deviceId': 17, 'exclusiveNight': False, 'phases': [1, 2, 3], 'yearlyNetConsumption': 6254.625106004913, 'yearlyNetReactiveConsumption': 407.272312102517}, {'busId': 22, 'coded_ean': 'ZIV0034810602', 'connectionCapacity': 4.4, 'deviceId': 18, 'exclusiveNight': False, 'phases': [1], 'yearlyNetConsumption': 1655.986923798314, 'yearlyNetReactiveConsumption': 170.9676185849387}, {'busId': 22, 'coded_ean': 'ZIV0034810606', 'connectionCapacity': 3.3, 'deviceId': 19, 'exclusiveNight': False, 'phases': [1], 'yearlyNetConsumption': 1109.1593949455032, 'yearlyNetReactiveConsumption': 143.23691724120442}, {'busId': 30, 'coded_ean': 'SOG0020042461', 'connectionCapacity': 4.6, 'deviceId': 20, 'exclusiveNight': False, 'phases': [2], 'yearlyNetConsumption': 1217.362548103864, 'yearlyNetReactiveConsumption': 181.9438699109387}, {'busId': 33, 'coded_ean': 'ZIV0034810469', 'connectionCapacity': 3.45, 'deviceId': 21, 'exclusiveNight': False, 'phases': [1], 'yearlyNetConsumption': 1726.4860484212948, 'yearlyNetReactiveConsumption': 176.50700128487625}, {'busId': 39, 'coded_ean': 'ZIV0034810515', 'connectionCapacity': 0.64, 'deviceId': 22, 'exclusiveNight': False, 'phases': [2], 'yearlyNetConsumption': 1575.8612110750155, 'yearlyNetReactiveConsumption': 159.334866045405}, {'busId': 42, 'coded_ean': 'ZIV0034810470', 'connectionCapacity': 5.5, 'deviceId': 23, 'exclusiveNight': False, 'phases': [1], 'yearlyNetConsumption': 1434.0681231554036, 'yearlyNetReactiveConsumption': 139.45244985018104}, {'busId': 44, 'coded_ean': 'ZIV0034810471', 'connectionCapacity': 3.3, 'deviceId': 24, 'exclusiveNight': False, 'phases': [1], 'yearlyNetConsumption': 1401.9300636803973, 'yearlyNetReactiveConsumption': 132.32912108193787}, {'busId': 47, 'coded_ean': 'ZIV0034810476', 'connectionCapacity': 3.3, 'deviceId': 25, 'exclusiveNight': False, 'phases': [3], 'yearlyNetConsumption': 1688.98235623821, 'yearlyNetReactiveConsumption': 179.72439155420426}, {'busId': 49, 'coded_ean': 'ZIV0034810477', 'connectionCapacity': 9.2, 'deviceId': 26, 'exclusiveNight': False, 'phases': [2], 'yearlyNetConsumption': 1197.272907253632, 'yearlyNetReactiveConsumption': 114.05201767868391}, {'busId': 51, 'coded_ean': 'ZIV0034810472', 'connectionCapacity': 4.4, 'deviceId': 27, 'exclusiveNight': False, 'phases': [3], 'yearlyNetConsumption': 1698.9331316813434, 'yearlyNetReactiveConsumption': 135.88105733310024}, {'busId': 55, 'coded_ean': 'ZIV0034810604', 'connectionCapacity': 4.6, 'deviceId': 28, 'exclusiveNight': False, 'phases': [1], 'yearlyNetConsumption': 985.8024417957962, 'yearlyNetReactiveConsumption': 180.04635971411287}, {'busId': 55, 'coded_ean': 'ZIV0036384819', 'connectionCapacity': 9.2, 'deviceId': 29, 'exclusiveNight': False, 'phases': [1], 'yearlyNetConsumption': 1682.9440619885856, 'yearlyNetReactiveConsumption': 156.4667899167122}, {'busId': 61, 'coded_ean': 'ZIV0034810577', 'connectionCapacity': 4.4, 'deviceId': 30, 'exclusiveNight': False, 'phases': [3], 'yearlyNetConsumption': 1165.899263746722, 'yearlyNetReactiveConsumption': 132.4782684629817}, {'busId': 63, 'coded_ean': 'SAG0125358131', 'connectionCapacity': 4.4, 'deviceId': 31, 'exclusiveNight': False, 'phases': [1], 'yearlyNetConsumption': 1829.7630117985639, 'yearlyNetReactiveConsumption': 96.31429923355196}, {'busId': 63, 'coded_ean': 'SAG0125358132', 'connectionCapacity': 4.4, 'deviceId': 32, 'exclusiveNight': False, 'phases': [1], 'yearlyNetConsumption': 1287.737979563978, 'yearlyNetReactiveConsumption': 145.24682001688507}, {'busId': 65, 'coded_ean': 'SAG0125358133', 'connectionCapacity': 4.4, 'deviceId': 33, 'exclusiveNight': False, 'phases': [3], 'yearlyNetConsumption': 1432.3202904518557, 'yearlyNetReactiveConsumption': 188.26994440160183}, {'busId': 65, 'coded_ean': 'SAG0125358134', 'connectionCapacity': 4.6, 'deviceId': 34, 'exclusiveNight': False, 'phases': [3], 'yearlyNetConsumption': 1398.6166895147553, 'yearlyNetReactiveConsumption': 182.17368851930553}, {'busId': 67, 'coded_ean': 'SAG0125358135', 'connectionCapacity': 3.3, 'deviceId': 35, 'exclusiveNight': False, 'phases': [2], 'yearlyNetConsumption': 1880.048619074753, 'yearlyNetReactiveConsumption': 117.49615282457424}, {'busId': 67, 'coded_ean': 'SAG0125358137', 'connectionCapacity': 4.4, 'deviceId': 36, 'exclusiveNight': False, 'phases': [2], 'yearlyNetConsumption': 1193.8750349258312, 'yearlyNetReactiveConsumption': 135.40717258463542}, {'busId': 69, 'coded_ean': 'SAG0125358138', 'connectionCapacity': 4.4, 'deviceId': 37, 'exclusiveNight': False, 'phases': [3], 'yearlyNetConsumption': 1360.6730037134378, 'yearlyNetReactiveConsumption': 179.53597366515493}, {'busId': 69, 'coded_ean': 'SAG0125358139', 'connectionCapacity': 3.45, 'deviceId': 38, 'exclusiveNight': False, 'phases': [3], 'yearlyNetConsumption': 1727.004807275247, 'yearlyNetReactiveConsumption': 141.5515791001348}, {'busId': 71, 'coded_ean': 'SAG0125358501', 'connectionCapacity': 4.6, 'deviceId': 39, 'exclusiveNight': False, 'phases': [1], 'yearlyNetConsumption': 1640.3131992852134, 'yearlyNetReactiveConsumption': 156.9377963904382}, {'busId': 71, 'coded_ean': 'SAG0125358502', 'connectionCapacity': 4.6, 'deviceId': 40, 'exclusiveNight': False, 'phases': [3], 'yearlyNetConsumption': 1093.7400318805246, 'yearlyNetReactiveConsumption': 131.67939547145266}, {'busId': 71, 'coded_ean': 'SAG0125358503', 'connectionCapacity': 3.3, 'deviceId': 41, 'exclusiveNight': False, 'phases': [2], 'yearlyNetConsumption': 1221.0231424063588, 'yearlyNetReactiveConsumption': 184.04439446856816}, {'busId': 74, 'coded_ean': 'SAG0125358504', 'connectionCapacity': 3.45, 'deviceId': 42, 'exclusiveNight': False, 'phases': [1], 'yearlyNetConsumption': 1516.581305718924, 'yearlyNetReactiveConsumption': 163.9353021653139}, {'busId': 74, 'coded_ean': 'SAG0125358505', 'connectionCapacity': 3.45, 'deviceId': 43, 'exclusiveNight': False, 'phases': [2], 'yearlyNetConsumption': 1272.541184528735, 'yearlyNetReactiveConsumption': 168.5214191250901}, {'busId': 52, 'coded_ean': 'SAG0125358507', 'connectionCapacity': 3.3, 'deviceId': 44, 'exclusiveNight': False, 'phases': [3], 'yearlyNetConsumption': 1933.356492746387, 'yearlyNetReactiveConsumption': 146.95285889084766}, {'busId': 52, 'coded_ean': 'SAG0125358508', 'connectionCapacity': 3.3, 'deviceId': 45, 'exclusiveNight': False, 'phases': [2], 'yearlyNetConsumption': 1373.620366174618, 'yearlyNetReactiveConsumption': 130.3450896202964}, {'busId': 59, 'coded_ean': 'SAG0125358509', 'connectionCapacity': 4.4, 'deviceId': 46, 'exclusiveNight': False, 'phases': [3], 'yearlyNetConsumption': 1518.1980617955992, 'yearlyNetReactiveConsumption': 104.22722311724814}, {'busId': 59, 'coded_ean': 'SAG0125358510', 'connectionCapacity': 4.4, 'deviceId': 47, 'exclusiveNight': False, 'phases': [2], 'yearlyNetConsumption': 1326.7644829878607, 'yearlyNetReactiveConsumption': 120.10249389289825}, {'busId': 13, 'coded_ean': 'ZIV0036294548', 'connectionCapacity': 9.9, 'deviceId': 48, 'exclusiveNight': False, 'phases': [1, 2, 3], 'yearlyNetConsumption': 5455.045454810017, 'yearlyNetReactiveConsumption': 454.42182739581546}, {'busId': 10, 'coded_ean': 'ZIV0036295886', 'connectionCapacity': 13.2, 'deviceId': 49, 'exclusiveNight': False, 'phases': [1, 2, 3], 'yearlyNetConsumption': 3328.498316495013, 'yearlyNetReactiveConsumption': 514.4843284879479}, {'busId': 75, 'coded_ean': 'ZIV0036295892', 'connectionCapacity': 6.6, 'deviceId': 50, 'exclusiveNight': False, 'phases': [1, 2, 3], 'yearlyNetConsumption': 4597.620062799308, 'yearlyNetReactiveConsumption': 503.82015892771375}, {'busId': 75, 'coded_ean': 'ZIV0040430705', 'connectionCapacity': 2.3, 'deviceId': 51, 'exclusiveNight': False, 'phases': [1], 'yearlyNetConsumption': 1791.1267282686747, 'yearlyNetReactiveConsumption': 138.59580446095887}], 'solarGens': []}\n",
            "{'gridConfig': {'baseMVA': 0.63, 'basekV': 0.4, 'branches_file': 'POLA/65019_74478_mod_branches.json', 'buses_file': 'POLA/65019_74478_mod_buses.json', 'cabineName': 'CT TORREVIEJA', 'city': 'POLA', 'connection_configuration': 'star', 'devices_file': 'POLA/65019_74478_mod_devices.json', 'id': 74478, 'name': 4, 'slack_voltage': 1, 'totalNrOfEANS': 52, 'trafoId': 65019}}\n"
          ]
        }
      ]
    },
    {
      "cell_type": "code",
      "source": [
        "print(len(branches))\n",
        "print(len(buses))\n",
        "print(len(devices))\n",
        "print(len(LVcustomers))\n",
        "print(len(solarGens))"
      ],
      "metadata": {
        "colab": {
          "base_uri": "https://localhost:8080/"
        },
        "id": "2N8VgHyY4CQU",
        "outputId": "5084ce8d-be74-402c-8251-a9f4cd39a5e1"
      },
      "execution_count": 7,
      "outputs": [
        {
          "output_type": "stream",
          "name": "stdout",
          "text": [
            "75\n",
            "76\n",
            "2\n",
            "52\n",
            "0\n"
          ]
        }
      ]
    },
    {
      "cell_type": "code",
      "source": [
        "# House0 = pd.read_csv('/content/House0.csv', header=None)\n",
        "# print(House0.shape)\n",
        "\n",
        "Load_time_series = np.zeros((len(LVcustomers),1000,24))\n",
        "for i in range(len(LVcustomers)):\n",
        "  dir = f'/content/House{1}.csv'\n",
        "  New_house = pd.read_csv(dir, header=None)\n",
        "  Load_time_series[i, :, :] = New_house.values.T\n",
        "print(Load_time_series.shape)"
      ],
      "metadata": {
        "colab": {
          "base_uri": "https://localhost:8080/"
        },
        "id": "pPRztjAFOJs0",
        "outputId": "bb499ce9-e6e6-4d55-fd0a-0c29c82b6940"
      },
      "execution_count": 8,
      "outputs": [
        {
          "output_type": "stream",
          "name": "stdout",
          "text": [
            "(52, 1000, 24)\n"
          ]
        }
      ]
    },
    {
      "cell_type": "code",
      "source": [
        "impedance_dict = {\n",
        "    \"BT - Desconocido BT\": [0.21, 0.075],\n",
        "    \"BT - MANGUERA\": [0.3586, 0.089],\n",
        "    \"BT - RV 0,6/1 KV 2*16 KAL\": [2.14, 0.09],\n",
        "    \"BT - RV 0,6/1 KV 2*25 KAL\": [1.34, 0.097],\n",
        "    \"BT - RV 0,6/1 KV 3(1*150 KAL) + 1*95 KAL\": [0.2309, 0.085],\n",
        "    \"BT - RV 0,6/1 KV 3(1*240 KAL) + 1*150 KAL\": [0.1602, 0.079],\n",
        "    \"BT - RV 0,6/1 KV 3(1*240 KAL) + 1*95 KAL\": [0.1602, 0.079],\n",
        "    \"BT - RV 0,6/1 KV 4*25 KAL\": [1.34, 0.097],\n",
        "    \"BT - RV 0,6/1 KV 4*50 KAL\": [0.71849, 0.093],\n",
        "    \"BT - RV 0,6/1 KV 4*95 KAL\": [0.3586, 0.089],\n",
        "    \"BT - RX 0,6/1 KV 2*16 Cu\": [1.23, 0.08],\n",
        "    \"BT - RX 0,6/1 KV 2*2 Cu\": [9.9, 0.075],\n",
        "    \"BT - RX 0,6/1 KV 2*4 Cu\": [4.95, 0.075],\n",
        "    \"BT - RX 0,6/1 KV 2*6 Cu\": [3.3, 0.075],\n",
        "    \"BT - RZ 0,6/1 KV 2*16 AL\": [2.14, 0.09],\n",
        "    \"BT - RZ 0,6/1 KV 3*150 AL/80 ALM\": [0.2309, 0.85],\n",
        "    \"BT - RZ 0,6/1 KV 3*150 AL/95 ALM\": [0.2309, 0.85],\n",
        "    \"BT - RZ 0,6/1 KV 3*25 AL/54,6 ALM\": [1.34, 0.097],\n",
        "    \"BT - RZ 0,6/1 KV 3*35 AL/54,6 ALM\": [0.9073, 0.095],\n",
        "    \"BT - RZ 0,6/1 KV 3*50 AL/54,6 ALM\": [0.718497, 0.093],\n",
        "    \"BT - RZ 0,6/1 KV 3*70 ALM/54,6 AL\": [0.4539, 0.091],\n",
        "    \"BT - RZ 0,6/1 KV 3*95 AL/54,6 ALM\": [0.3586, 0.089],\n",
        "    \"BT - RZ 0,6/1 KV 4*16 AL\": [2.14, 0.09],\n",
        "    \"aansluitkabel\": [1.15, 0.150]\n",
        "}\n",
        "\n",
        "currentmax_dict = {\n",
        "    \"BT - Desconocido BT\": 200,\n",
        "    \"BT - MANGUERA\": 150,  # 200 certain 40.18 # 150\n",
        "    \"BT - RV 0,6/1 KV 2*16 KAL\": 75,\n",
        "    \"BT - RV 0,6/1 KV 2*25 KAL\": 100,\n",
        "    \"BT - RV 0,6/1 KV 3(1*150 KAL) + 1*95 KAL\": 264,\n",
        "    \"BT - RV 0,6/1 KV 3(1*240 KAL) + 1*150 KAL\": 344,\n",
        "    \"BT - RV 0,6/1 KV 3(1*240 KAL) + 1*95 KAL\": 344,\n",
        "    \"BT - RV 0,6/1 KV 4*25 KAL\": 100,\n",
        "    \"BT - RV 0,6/1 KV 4*50 KAL\": 150,\n",
        "    \"BT - RV 0,6/1 KV 4*95 KAL\": 230,\n",
        "    \"BT - RX 0,6/1 KV 2*16 Cu\": 95,\n",
        "    \"BT - RX 0,6/1 KV 2*2 Cu\": 30,\n",
        "    \"BT - RX 0,6/1 KV 2*4 Cu\": 40,\n",
        "    \"BT - RX 0,6/1 KV 2*6 Cu\": 50,\n",
        "    \"BT - RZ 0,6/1 KV 2*16 AL\": 75,\n",
        "    \"BT - RZ 0,6/1 KV 3*150 AL/80 ALM\": 264,\n",
        "    \"BT - RZ 0,6/1 KV 3*150 AL/95 ALM\": 264,\n",
        "    \"BT - RZ 0,6/1 KV 3*25 AL/54,6 ALM\": 78.98,\n",
        "    \"BT - RZ 0,6/1 KV 3*35 AL/54,6 ALM\": 120,\n",
        "    \"BT - RZ 0,6/1 KV 3*50 AL/54,6 ALM\": 118.47,\n",
        "    \"BT - RZ 0,6/1 KV 3*70 ALM/54,6 AL\": 160,\n",
        "    \"BT - RZ 0,6/1 KV 3*95 AL/54,6 ALM\": 182.21,\n",
        "    \"BT - RZ 0,6/1 KV 4*16 AL\": 75,\n",
        "    \"aansluitkabel\": 200\n",
        "}\n"
      ],
      "metadata": {
        "id": "82-QrD3f7yZu"
      },
      "execution_count": 9,
      "outputs": []
    },
    {
      "cell_type": "markdown",
      "source": [
        "### Build LV network"
      ],
      "metadata": {
        "id": "xJJcxKFv1sKh"
      }
    },
    {
      "cell_type": "code",
      "source": [
        "#Set up dss engine\n",
        "dss_engine = dss.DSS\n",
        "DSSText = dss_engine.Text\n",
        "DSSCircuit = dss_engine.ActiveCircuit\n",
        "DSSSolution = dss_engine.ActiveCircuit.Solution\n",
        "ControlQueue = dss_engine.ActiveCircuit.CtrlQueue\n",
        "dss_engine.AllowForms = 0"
      ],
      "metadata": {
        "id": "sLo0B5eL1u2y"
      },
      "execution_count": 553,
      "outputs": []
    },
    {
      "cell_type": "code",
      "source": [
        "#initial configuration commands\n",
        "DSSText.Command = 'Clear'\n",
        "DSSText.Command = 'Set DefaultBaseFrequency=50'\n",
        "DSSText.Command = 'New circuit.LVspanish'\n",
        "DSSText.Command = 'Edit vsource.source bus1=sourcebus phases=3 BaseKV=0.4 pu=1.0 angle=0'\n",
        "\n",
        "# DSSText.Command = 'Set VoltageBases = [0.400, 0.400]'\n",
        "# DSSText.Command = 'calcvoltagebases'"
      ],
      "metadata": {
        "id": "fiK8RxyW3MAy"
      },
      "execution_count": 554,
      "outputs": []
    },
    {
      "cell_type": "code",
      "source": [
        "#Transformer set-up?\n",
        "DSSText.Command = 'New transformer.LVTR Buses=[sourcebus bus1] Conns=[Delta W ye] KVs=[0.4, 0.4] %Rs=0.00 xhl=2.5 %loadloss=0 '"
      ],
      "metadata": {
        "id": "au8C3_vcCeuy"
      },
      "execution_count": 555,
      "outputs": []
    },
    {
      "cell_type": "code",
      "source": [
        "#Set up branches\n",
        "\n",
        "for branch in branches:\n",
        "  branchId = branch[\"branchId\"]\n",
        "  cableLength = branch[\"cableLength\"]\n",
        "  cableType = branch[\"cableType\"]\n",
        "  R1 = impedance_dict[cableType][0] #Should be in ohm/m\n",
        "  X1 = impedance_dict[cableType][1]\n",
        "  downBusId = branch[\"downBusId\"]\n",
        "  upBusId = branch[\"upBusId\"]\n",
        "\n",
        "  if upBusId == 0:\n",
        "    cmd = f'new line.L{upBusId}to{downBusId} bus1=sourcebus bus2=bus{downBusId} length={cableLength} phases=3 units=m R1={R1} X1={X1}'\n",
        "  else:\n",
        "    cmd = f'new line.L{upBusId}to{downBusId} bus1=bus{upBusId} bus2=bus{downBusId} length={cableLength} phases=1 units=m R1={R1} X1={X1}'\n",
        "  DSSText.Command = cmd\n",
        "  # print(cmd)"
      ],
      "metadata": {
        "id": "zI_G1lYn8IjY"
      },
      "execution_count": 556,
      "outputs": []
    },
    {
      "cell_type": "code",
      "source": [
        "#Set up loads\n",
        "\n",
        "for load in LVcustomers:\n",
        "  busId = load[\"busId\"]\n",
        "  deviceId = load['deviceId']\n",
        "\n",
        "  if upBusId == 0:\n",
        "    cmd = f'new load.Load_Bus{busId}_Dev{deviceId} bus1=sourcebus phases=3 kV=0.23 kW=1 pf=1.0 model=1 conn=wye Vminpu=0.9 Vmaxpu=1.10 status=variable'\n",
        "  else:\n",
        "    cmd = f'new load.Load_Bus{busId}_Dev{deviceId} bus1=bus{busId} phases=1 kV=0.23 kW=1 pf=1.0 model=1 conn=wye Vminpu=0.9 Vmaxpu=1.10 status=variable'\n",
        "\n",
        "  DSSText.Command = cmd\n",
        "  # print(cmd)"
      ],
      "metadata": {
        "id": "m5ZauVBKGsGO"
      },
      "execution_count": 557,
      "outputs": []
    },
    {
      "cell_type": "code",
      "source": [
        "DSSText.Command = 'Set VoltageBases = [0.400, 0.400]'\n",
        "DSSText.Command = 'calcvoltagebases'"
      ],
      "metadata": {
        "id": "PdVEEdr0NXSm"
      },
      "execution_count": 558,
      "outputs": []
    },
    {
      "cell_type": "markdown",
      "source": [
        " ### Start Power Flow Simulation"
      ],
      "metadata": {
        "id": "WXgF0cgYZMI5"
      }
    },
    {
      "cell_type": "markdown",
      "source": [
        "#### Visualise the Load profiles"
      ],
      "metadata": {
        "id": "5ThSNB4JZmdp"
      }
    },
    {
      "cell_type": "code",
      "source": [
        "x=[i for i in range(24)]\n",
        "l=[]\n",
        "for i in range(24):\n",
        "      l.append(\"%s:00\"%i)\n",
        "      l.append(\" \")\n",
        "\n",
        "fig=plt.figure(figsize=(9,3))\n",
        "selected_day=45                     #here is where you can change the selected day\n",
        "for row in Load_time_series[:,selected_day,:]:\n",
        "   plt.plot(row, label = 'load profiles')\n",
        "   plt.xlabel(\"Time (hh:mm)\", fontsize = 15)\n",
        "   plt.xticks(fontsize = 10)\n",
        "  #  plt.xticks(x,l, fontsize=10, rotation=60)\n",
        "   plt.ylabel('Active Power (kW)', fontsize = 15)\n",
        "   plt.yticks(fontsize = 10)\n",
        "   plt.title('Residential Load Profiles for the Selected Day', fontsize = 15)"
      ],
      "metadata": {
        "colab": {
          "base_uri": "https://localhost:8080/",
          "height": 0
        },
        "id": "GDH4mrYzZdqY",
        "outputId": "7a4bf4fa-3a36-4f1e-e179-469a5695d302"
      },
      "execution_count": 559,
      "outputs": [
        {
          "output_type": "display_data",
          "data": {
            "text/plain": [
              "<Figure size 900x300 with 1 Axes>"
            ],
            "image/png": "[encoded data removed]"
          },
          "metadata": {}
        }
      ]
    },
    {
      "cell_type": "markdown",
      "source": [
        "#### Initiate defs and other variables"
      ],
      "metadata": {
        "id": "zZ164h84dkV5"
      }
    },
    {
      "cell_type": "code",
      "source": [
        "def Initiate_variable(customers):\n",
        "    kW_monitors = np.zeros((customers,24))\n",
        "    kvar_monitors = np.zeros((customers,24))\n",
        "    voltages_monitors = np.zeros((customers,24))\n",
        "    df_kw = pd.DataFrame()\n",
        "    df_kvar = pd.DataFrame()\n",
        "    df_volt = pd.DataFrame()\n",
        "    load_profiles_all = []\n",
        "    return  (kW_monitors, kvar_monitors, voltages_monitors, df_kw, df_kvar, df_volt, load_profiles_all)"
      ],
      "metadata": {
        "id": "99sPTr2jlPHT"
      },
      "execution_count": 560,
      "outputs": []
    },
    {
      "cell_type": "code",
      "source": [
        "def Monitors_data(itime,Loadname):\n",
        "    for icust, cust in enumerate(Loadname):\n",
        "            DSSCircuit.SetActiveElement('load.%s' %(cust))\n",
        "            kW_monitors[icust, itime] = DSSCircuit.ActiveElement.Powers[0]\n",
        "            kvar_monitors[icust,itime]= DSSCircuit.ActiveElement.Powers[1]\n",
        "            bus_name = DSSCircuit.ActiveElement.Properties('bus1').Val\n",
        "            DSSCircuit.SetActiveBus(bus_name)\n",
        "            voltages_monitors[icust, itime] = DSSCircuit.ActiveBus.puVmagAngle[0]"
      ],
      "metadata": {
        "id": "xPjORarzj--7"
      },
      "execution_count": 561,
      "outputs": []
    },
    {
      "cell_type": "markdown",
      "source": [
        "#### Solve"
      ],
      "metadata": {
        "id": "VYihUPTqcHdu"
      }
    },
    {
      "cell_type": "code",
      "source": [
        "Loadname = DSSCircuit.Loads.AllNames\n",
        "customers = len(Loadname)\n",
        "print(Loadname)"
      ],
      "metadata": {
        "colab": {
          "base_uri": "https://localhost:8080/"
        },
        "id": "Q6F7JTiBuFGm",
        "outputId": "ac60b9aa-2030-411b-fe6a-447befd4d239"
      },
      "execution_count": 562,
      "outputs": [
        {
          "output_type": "stream",
          "name": "stdout",
          "text": [
            "['load_bus4_dev0', 'load_bus4_dev1', 'load_bus4_dev2', 'load_bus65_dev3', 'load_bus65_dev4', 'load_bus65_dev5', 'load_bus64_dev6', 'load_bus64_dev7', 'load_bus64_dev8', 'load_bus65_dev9', 'load_bus66_dev10', 'load_bus66_dev11', 'load_bus10_dev12', 'load_bus13_dev13', 'load_bus16_dev14', 'load_bus18_dev15', 'load_bus18_dev16', 'load_bus20_dev17', 'load_bus22_dev18', 'load_bus22_dev19', 'load_bus30_dev20', 'load_bus33_dev21', 'load_bus39_dev22', 'load_bus42_dev23', 'load_bus44_dev24', 'load_bus47_dev25', 'load_bus49_dev26', 'load_bus51_dev27', 'load_bus55_dev28', 'load_bus55_dev29', 'load_bus61_dev30', 'load_bus63_dev31', 'load_bus63_dev32', 'load_bus65_dev33', 'load_bus65_dev34', 'load_bus67_dev35', 'load_bus67_dev36', 'load_bus69_dev37', 'load_bus69_dev38', 'load_bus71_dev39', 'load_bus71_dev40', 'load_bus71_dev41', 'load_bus74_dev42', 'load_bus74_dev43', 'load_bus52_dev44', 'load_bus52_dev45', 'load_bus59_dev46', 'load_bus59_dev47', 'load_bus13_dev48', 'load_bus10_dev49', 'load_bus75_dev50', 'load_bus75_dev51']\n"
          ]
        }
      ]
    },
    {
      "cell_type": "code",
      "source": [
        "#Powerflow_simulation for 1 day\n",
        "\n",
        "(kW_monitors, kvar_monitors, voltages_monitors, df_kw, df_kvar, df_volt, load_profiles_all) = Initiate_variable(customers)\n",
        "\n",
        "for load_index, load_name in enumerate(Loadname):\n",
        "  load_profile = Load_time_series[load_index, 1, :]\n",
        "  reactive_load_profile = load_profile * 0\n",
        "  # reactive_load_profile = (load_profile * math.tan(math.acos(0.95)))\n",
        "\n",
        "  DSSCircuit.LoadShapes.New('customer_profile_%s' %(load_index))\n",
        "  DSSCircuit.LoadShapes.Npts = 24\n",
        "  DSSCircuit.LoadShapes.MinInterval = 60\n",
        "  DSSCircuit.LoadShapes.UseActual = 1\n",
        "  DSSCircuit.LoadShapes.Name = 'customer_profile_%s' %(load_index)\n",
        "\n",
        "  DSSCircuit.LoadShapes.Pmult = load_profile.tolist()\n",
        "  DSSCircuit.LoadShapes.Qmult = reactive_load_profile.tolist()\n",
        "  DSSCircuit.SetActiveElement('load.%s'%(load_name))\n",
        "  DSSCircuit.ActiveElement.Properties('daily').Val = str('customer_profile_%s' %(load_index))\n",
        "\n",
        "DSSText.Command = 'Reset'\n",
        "DSSText.Command = 'Set Mode=daily number=1 stepsize=60m'\n",
        "voltages_monitors = np.zeros((customers,24))\n",
        "for itime in range(24):\n",
        "      DSSSolution.Solve()\n",
        "      Monitors_data(itime,Loadname)\n",
        "if DSSSolution.Converged:\n",
        "  print('Message: The Solution Converged Successfully\\n')\n",
        "else:\n",
        "  print(\"Message: The Solution Did Not Converge\\n\")\n",
        "\n",
        "# print(kW_monitors)\n",
        "# print(kvar_monitors)\n",
        "print(voltages_monitors)\n",
        "# print(voltages_monitors.shape)\n",
        "# print(voltages_monitors.dtype)\n",
        "\n"
      ],
      "metadata": {
        "colab": {
          "base_uri": "https://localhost:8080/"
        },
        "id": "j_VG3wdYu-Th",
        "outputId": "67ea4287-a4be-482d-dce7-3bcde0f4663f"
      },
      "execution_count": 567,
      "outputs": [
        {
          "output_type": "stream",
          "name": "stdout",
          "text": [
            "Message: The Solution Converged Successfully\n",
            "\n",
            "[[2.44800522e-01 5.95354262e+01 3.36098808e-01 ... 2.52232302e-01\n",
            "  1.93424852e-01 2.06138968e-01]\n",
            " [2.44800522e-01 5.95354262e+01 3.36098808e-01 ... 2.52232302e-01\n",
            "  1.93424852e-01 2.06138968e-01]\n",
            " [2.44800522e-01 5.95354262e+01 3.36098808e-01 ... 2.52232302e-01\n",
            "  1.93424852e-01 2.06138968e-01]\n",
            " ...\n",
            " [1.70254886e-02 1.17537216e+02 4.80605415e-02 ... 1.83342342e-02\n",
            "  9.68038419e-03 1.12317474e-02]\n",
            " [1.45620940e-03 1.66914716e+02 6.20148429e-02 ... 1.73604053e-03\n",
            "  3.78875037e-04 5.25666600e-04]\n",
            " [1.45620940e-03 1.66914716e+02 6.20148429e-02 ... 1.73604053e-03\n",
            "  3.78875037e-04 5.25666600e-04]]\n"
          ]
        }
      ]
    },
    {
      "cell_type": "code",
      "source": [
        "# from dss import plot\n",
        "# plot.enable()\n",
        "# # dss.Plotting.enable()\n",
        "# DSSText.Command = 'plot circuit'"
      ],
      "metadata": {
        "id": "qaHl2TkzI5wY"
      },
      "execution_count": 564,
      "outputs": []
    },
    {
      "cell_type": "code",
      "source": [
        "#Powerflow simulation for all days\n",
        "\n",
        "# voltage_outcomes = np.zeros((1000,52,24))\n",
        "# for day in range(10):\n",
        "#   (kW_monitors, kvar_monitors, voltages_monitors, df_kw, df_kvar, df_volt, load_profiles_all) = Initiate_variable(customers)\n",
        "\n",
        "#   for load_index, load_name in enumerate(Loadname):\n",
        "#     load_profile = Load_time_series[load_index, 0, :]\n",
        "\n",
        "#     DSSCircuit.LoadShapes.New('customer_profile_%s' %(load_name))\n",
        "#     DSSCircuit.LoadShapes.Npts = 24\n",
        "#     DSSCircuit.LoadShapes.MinInterval = 60\n",
        "#     DSSCircuit.LoadShapes.UseActual = 1\n",
        "#     DSSCircuit.LoadShapes.Name = 'customer_profile_%s' %(load_name)\n",
        "#     DSSCircuit.LoadShapes.Pmult = load_profile.tolist()\n",
        "#     DSSCircuit.SetActiveElement('load.%s'%(load_name))\n",
        "#     DSSCircuit.ActiveElement.Properties('daily').Val = str('customer_profile_%s' %(load_name))\n",
        "\n",
        "#   DSSText.Command = 'Reset'\n",
        "#   DSSText.Command = 'Set Mode=daily  number=1 stepsize=60m'\n",
        "#   for itime in range(24):\n",
        "#         DSSSolution.Solve()\n",
        "#         Monitors_data(itime)\n",
        "#   voltage_outcomes[day] = voltages_monitors\n",
        "\n",
        "# voltage_outcomes = np.transpose(voltage_outcomes, (0, 2, 1))\n",
        "# print(voltage_outcomes)\n"
      ],
      "metadata": {
        "id": "xzgFAIBhpPpY"
      },
      "execution_count": 565,
      "outputs": []
    }
  ]
}